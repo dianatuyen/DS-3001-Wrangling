{
  "cells": [
    {
      "cell_type": "markdown",
      "id": "13ad028b-72b7-43ed-aa78-96fd4e518040",
      "metadata": {
        "id": "13ad028b-72b7-43ed-aa78-96fd4e518040"
      },
      "source": [
        "# Assignment: Data Wrangling"
      ]
    },
    {
      "cell_type": "markdown",
      "id": "5735a4d4-8be8-433a-a351-70eb8002e632",
      "metadata": {
        "id": "5735a4d4-8be8-433a-a351-70eb8002e632"
      },
      "source": [
        "**Q1.** Open the \"tidy_data.pdf\" document in the repo, which is a paper called Tidy Data by Hadley Wickham.\n",
        "\n",
        "  1. Read the abstract. What is this paper about?\n",
        "  2. Read the introduction. What is the \"tidy data standard\" intended to accomplish?\n",
        "  3. Read the intro to section 2. What does this sentence mean: \"Like families, tidy datasets are all alike but every messy dataset is messy in its own way.\" What does this sentence mean: \"For a given dataset, it’s usually easy to figure out what are observations and what are variables, but it is surprisingly difficult to precisely define variables and observations in general.\"\n",
        "  4. Read Section 2.2. How does Wickham define values, variables, and observations?\n",
        "  5. How is \"Tidy Data\" defined in section 2.3?\n",
        "  6. Read the intro to Section 3 and Section 3.1. What are the 5 most common problems with messy datasets? Why are the data in Table 4 messy? What is \"melting\" a dataset?\n",
        "  7. Why, specifically, is table 11 messy but table 12 tidy and \"molten\"?\n",
        "  8. Read Section 6. What is the \"chicken-and-egg\" problem with focusing on tidy data? What does Wickham hope happens in the future with further work on the subject of data wrangling?"
      ]
    },
    {
      "cell_type": "markdown",
      "source": [
        "1. Tidy Data talks about the efforts taken when cleaning data and a techique used to clean data easier. It takes about the benefits of usig this structure.\n",
        "2. The \"tidy data standard\" intends to make data cleaning easier along with simplifying development of data analysis.\n",
        "3. Sentence 1 tells us that tidy datasets are easy to digest but messy datsets are not. Sentence 2 says it difficult to understand data unless they are in a dataset or sorted.\n",
        "4.  Wickham states that values are organized in a variable and an observation.\n",
        "5. In section 2.3, Tidy Data is defined as a standard way of mapping the meaning of a dataset to its structure.\n",
        "6. Issues mentioend include: column headers, multiple variables in one column, variables in rows and columns, multiple observational units in the same table, and single obervational unit stored in multiple tables. Table 4 is messy because there is too much happening in the chart and is difficult to read because of the categories. Melting a dataset is turning columns into rows.\n",
        "7. Table 11 is messy because there are many gaps within the chart and also does not organize the dates well while Table 12 is more specific when organizing the dates in the molten data the elements column contains names of variables. Tidy data fixes the issues with the columns an dhas numbers that represent the variables and numbers given.\n",
        "8. It is when tody data is only useful to tools what work with it then it will be linked to tidy data. He hopes others will build on tiday framework to develop even better data storage strategies."
      ],
      "metadata": {
        "id": "7Xg6qi1-0gQs"
      },
      "id": "7Xg6qi1-0gQs"
    },
    {
      "cell_type": "markdown",
      "id": "da879ea7-8aac-48a3-b6c2-daea56d2e072",
      "metadata": {
        "id": "da879ea7-8aac-48a3-b6c2-daea56d2e072"
      },
      "source": [
        "**Q2.** This question provides some practice cleaning variables which have common problems.\n",
        "1. Numeric variable: For `./data/airbnb_hw.csv`, clean the `Price` variable as well as you can, and explain the choices you make. How many missing values do you end up with? (Hint: What happens to the formatting when a price goes over 999 dollars, say from 675 to 1,112?)\n",
        "2. Categorical variable: For the `./data/sharks.csv` data covered in the lecture, clean the \"Type\" variable as well as you can, and explain the choices you make.\n",
        "3. Dummy variable: For the pretrial data covered in the lecture, clean the `WhetherDefendantWasReleasedPretrial` variable as well as you can, and, in particular, replace missing values with `np.nan`.\n",
        "4. Missing values, not at random: For the pretrial data covered in the lecture, clean the `ImposedSentenceAllChargeInContactEvent` variable as well as you can, and explain the choices you make. (Hint: Look at the `SentenceTypeAllChargesAtConvictionInContactEvent` variable.)"
      ]
    },
    {
      "cell_type": "markdown",
      "id": "649494cd-cfd6-4f80-992a-9994fc19e1d5",
      "metadata": {
        "id": "649494cd-cfd6-4f80-992a-9994fc19e1d5"
      },
      "source": [
        "**Q3.** Many important datasets contain a race variable, typically limited to a handful of values often including Black, White, Asian, Latino, and Indigenous. This question looks at data gathering efforts on this variable by the U.S. Federal government.\n",
        "\n",
        "1. How did the most recent US Census gather data on race? [based on self-identification and get it from federal state, local governemnts, and come commerical entities]\n",
        "2. Why do we gather these data? What role do these kinds of data play in politics and society? Why does data quality matter? [Race data are used in planning and funding government programs that provide funds or services for specific groups.]\n",
        "3. Please provide a constructive criticism of how the Census was conducted: What was done well? What do you think was missing? How should future large scale surveys be adjusted to best reflect the diversity of the population? Could some of the Census' good practices be adopted more widely to gather richer and more useful data? [In order to eliminate any biases it would be good to collect data from schools or where it is required for many people to input their race. I think that gathering it from the federal state is good to represent each state.]\n",
        "4. How did the Census gather data on sex and gender? Please provide a similar constructive criticism of their practices.[The U.S. Census Bureau's gender-identity test asks respondents about their current gender and the sex they were assigned at birth. It could change or be inaccurate for people who identify as intersex.]\n",
        "5. When it comes to cleaning data, what concerns do you have about protected characteristics like sex, gender, sexual identity, or race? What challenges can you imagine arising when there are missing values? What good or bad practices might people adopt, and why?[Some might not be comfortable with sharing data regarding their sex or race and there is an option which will not represent a small percentage of the population.]\n",
        "6. Suppose someone invented an algorithm to impute values for protected characteristics like race, gender, sex, or sexuality. What kinds of concerns would you have? [It could be unethicial or inaccurate. ]"
      ]
    }
  ],
  "metadata": {
    "colab": {
      "provenance": []
    },
    "kernelspec": {
      "display_name": "Python 3 (ipykernel)",
      "language": "python",
      "name": "python3"
    },
    "language_info": {
      "codemirror_mode": {
        "name": "ipython",
        "version": 3
      },
      "file_extension": ".py",
      "mimetype": "text/x-python",
      "name": "python",
      "nbconvert_exporter": "python",
      "pygments_lexer": "ipython3",
      "version": "3.10.4"
    }
  },
  "nbformat": 4,
  "nbformat_minor": 5
}